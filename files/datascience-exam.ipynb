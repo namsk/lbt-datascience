{
 "cells": [
  {
   "cell_type": "markdown",
   "metadata": {},
   "source": [
    "## 연습문제 1\n",
    "\n",
    "- pandas를 임포트 한 후\n",
    "- data 디렉터리로부터 wstudents.csv를 불러와 DataFrame에 담아 주십시오"
   ]
  },
  {
   "cell_type": "code",
   "execution_count": 1,
   "metadata": {
    "scrolled": true
   },
   "outputs": [],
   "source": [
    "# 여기에 코드를 작성해 주십시오\n"
   ]
  },
  {
   "cell_type": "markdown",
   "metadata": {},
   "source": [
    "## 연습문제 2\n",
    "- 데이터프레임에는 어떤 컬럼들이 있습니까?\n",
    "```\n",
    "Index(['height', 'weights'], dtype='object')\n",
    "```"
   ]
  },
  {
   "cell_type": "code",
   "execution_count": 2,
   "metadata": {},
   "outputs": [],
   "source": [
    "# 여기에 코드를 작성해 주십시오\n"
   ]
  },
  {
   "cell_type": "markdown",
   "metadata": {},
   "source": [
    "## 연습문제 3\n",
    "\n",
    "- 생성한 데이터프레임의 크기를 측정해 주십시오.\n",
    "- 출력 예시는 다음과 같습니다.\n",
    "\n",
    "```\n",
    "(80, 2)\n",
    "```"
   ]
  },
  {
   "cell_type": "code",
   "execution_count": 3,
   "metadata": {},
   "outputs": [],
   "source": [
    "# 여기에 코드를 작성해 주십시오\n"
   ]
  },
  {
   "cell_type": "markdown",
   "metadata": {},
   "source": [
    "## 연습문제 4\n",
    "- 데이터프레임의 앞쪽 데이터를 출력해 주십시오\n",
    "- 출력 개수는 Pandas 기본 설정값으로 합니다."
   ]
  },
  {
   "cell_type": "code",
   "execution_count": null,
   "metadata": {},
   "outputs": [],
   "source": [
    "# 여기에 코드를 작성해 주십시오\n"
   ]
  },
  {
   "cell_type": "markdown",
   "metadata": {},
   "source": [
    "## 연습문제 5\n",
    "- 데이터프레임의 뒤쪽 데이터를 일부 출력해 주십시오\n",
    "- 출력 개수는 Pandas 기본 설정값으로 합니다."
   ]
  },
  {
   "cell_type": "code",
   "execution_count": 9,
   "metadata": {},
   "outputs": [],
   "source": [
    "# 여기에 코드를 작성해 주십시오\n"
   ]
  },
  {
   "cell_type": "markdown",
   "metadata": {},
   "source": [
    "## 연습문제 6\n",
    "- 데이터프레임의 전반적 정보를 확인해 주십시오\n",
    "- 출력 예시는 아래와 같습니다\n",
    "```\n",
    "<class 'pandas.core.frame.DataFrame'>\n",
    "RangeIndex: 80 entries, 0 to 79\n",
    "Data columns (total 2 columns):\n",
    "height     80 non-null int64\n",
    "weights    80 non-null int64\n",
    "dtypes: int64(2)\n",
    "memory usage: 1.3 KB\n",
    "```"
   ]
  },
  {
   "cell_type": "code",
   "execution_count": 4,
   "metadata": {},
   "outputs": [],
   "source": [
    "# 여기에 코드를 작성해 주십시오\n"
   ]
  },
  {
   "cell_type": "markdown",
   "metadata": {},
   "source": [
    "## 연습문제 7\n",
    "- 데이터프레임의 요약통계량을 출력해 주십시오\n",
    "- 출력 예시는 다음과 같습니다.\n",
    "```\n",
    "           height    weights\n",
    "count   80.000000  80.000000\n",
    "mean   157.425000  50.700000\n",
    "std      5.437272   6.267053\n",
    "min    143.000000  38.000000\n",
    "25%    154.000000  47.000000\n",
    "50%    157.000000  50.000000\n",
    "75%    161.000000  54.000000\n",
    "max    169.000000  69.000000\n",
    "```"
   ]
  },
  {
   "cell_type": "code",
   "execution_count": 5,
   "metadata": {},
   "outputs": [],
   "source": [
    "# 여기에 코드를 작성해 주십시오\n"
   ]
  },
  {
   "cell_type": "markdown",
   "metadata": {},
   "source": [
    "## 연습문제 8\n",
    "- 데이터프레임으로부터 평균 신장과 평균 체중을 구해 출력해 주십시오\n",
    "- 출력 예시는 다음과 같습니다.\n",
    "\n",
    "```\n",
    "평균신장: 157.425\n",
    "평균체중: 50.7\n",
    "```"
   ]
  },
  {
   "cell_type": "code",
   "execution_count": 6,
   "metadata": {
    "scrolled": true
   },
   "outputs": [],
   "source": [
    "# 여기에 코드를 작성해 주십시오\n"
   ]
  },
  {
   "cell_type": "markdown",
   "metadata": {},
   "source": [
    "# 연습문제 9\n",
    "- 데이터프레임으로부터 체중이 45kg 이하인 학생의 데이터를 추출해 주십시오\n",
    "- 출력 예시는 다음과 같습니다.\n",
    "```\n",
    "    height  weights\n",
    "1      154       44\n",
    "8      154       45\n",
    "12     156       43\n",
    "```"
   ]
  },
  {
   "cell_type": "code",
   "execution_count": 7,
   "metadata": {},
   "outputs": [],
   "source": [
    "# 여기에 코드를 작성해 주십시오\n"
   ]
  },
  {
   "cell_type": "markdown",
   "metadata": {},
   "source": [
    "## 연습문제 10\n",
    "- 데이터프레임으로부터 신장이 평균신장보다 큰 학생의 데이터를 추출해 주십시오\n",
    "- 출력 예시는 다음과 같습니다.\n",
    "```\n",
    "    height  weights\n",
    "2      160       48\n",
    "3      160       52\n",
    "4      163       58\n",
    "...\n",
    "```"
   ]
  },
  {
   "cell_type": "code",
   "execution_count": 8,
   "metadata": {},
   "outputs": [],
   "source": [
    "# 여기에 코드를 작성해 주십시오\n"
   ]
  }
 ],
 "metadata": {
  "kernelspec": {
   "display_name": "Python 3",
   "language": "python",
   "name": "python3"
  },
  "language_info": {
   "codemirror_mode": {
    "name": "ipython",
    "version": 3
   },
   "file_extension": ".py",
   "mimetype": "text/x-python",
   "name": "python",
   "nbconvert_exporter": "python",
   "pygments_lexer": "ipython3",
   "version": "3.7.0"
  }
 },
 "nbformat": 4,
 "nbformat_minor": 2
}
